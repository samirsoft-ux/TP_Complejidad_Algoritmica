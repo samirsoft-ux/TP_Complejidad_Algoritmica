{
  "nbformat": 4,
  "nbformat_minor": 0,
  "metadata": {
    "colab": {
      "name": "TP_Brute_Force.ipynb",
      "provenance": [],
      "collapsed_sections": [],
      "include_colab_link": true
    },
    "kernelspec": {
      "name": "python3",
      "display_name": "Python 3"
    },
    "language_info": {
      "name": "python"
    }
  },
  "cells": [
    {
      "cell_type": "markdown",
      "metadata": {
        "id": "view-in-github",
        "colab_type": "text"
      },
      "source": [
        "<a href=\"https://colab.research.google.com/github/samirsoft-ux/TP_Complejidad_Algoritmica/blob/main/TP_Brute_Force.ipynb\" target=\"_parent\"><img src=\"https://colab.research.google.com/assets/colab-badge.svg\" alt=\"Open In Colab\"/></a>"
      ]
    },
    {
      "cell_type": "code",
      "metadata": {
        "colab": {
          "base_uri": "https://localhost:8080/"
        },
        "id": "53VmUcXZE745",
        "outputId": "31cd292d-cacf-4a4f-c96f-e148c4665244"
      },
      "source": [
        "!git clone https://github.com/lmcanavals/algorithmic_complexity.git"
      ],
      "execution_count": null,
      "outputs": [
        {
          "output_type": "stream",
          "text": [
            "Cloning into 'algorithmic_complexity'...\n",
            "remote: Enumerating objects: 268, done.\u001b[K\n",
            "remote: Counting objects: 100% (268/268), done.\u001b[K\n",
            "remote: Compressing objects: 100% (263/263), done.\u001b[K\n",
            "remote: Total 268 (delta 150), reused 0 (delta 0), pack-reused 0\u001b[K\n",
            "Receiving objects: 100% (268/268), 274.11 KiB | 4.57 MiB/s, done.\n",
            "Resolving deltas: 100% (150/150), done.\n"
          ],
          "name": "stdout"
        }
      ]
    },
    {
      "cell_type": "code",
      "metadata": {
        "id": "GetzAcxLFIZr"
      },
      "source": [
        "from algorithmic_complexity.aclib import graphstuff as gs"
      ],
      "execution_count": null,
      "outputs": []
    },
    {
      "cell_type": "code",
      "metadata": {
        "id": "ZjukBbnBFMYT"
      },
      "source": [
        "import pandas as pd\n",
        "import numpy as np\n",
        "import networkx as nx\n",
        "import math\n",
        "import json"
      ],
      "execution_count": null,
      "outputs": []
    },
    {
      "cell_type": "code",
      "metadata": {
        "id": "ZOgDyx25FOI4"
      },
      "source": [
        "# Para leer el archivo de la BD\n",
        "url=\"https://raw.githubusercontent.com/lmcanavals/algorithmic_complexity/main/data/poblaciones.csv\"\n",
        "poblacionesDF = pd.read_csv(url)"
      ],
      "execution_count": null,
      "outputs": []
    },
    {
      "cell_type": "code",
      "metadata": {
        "id": "V4PkVvrOK2J2",
        "cellView": "form"
      },
      "source": [
        "#@title TSP PROBLEM \n",
        "\n",
        "#*************************************************\n",
        "# Esta variable son solo los datos de las PROVINCIAS\n",
        "nomprovincias = poblacionesDF['PROVINCIA'].unique()\n",
        "\n",
        "#*************************************************\n",
        "#Para saber cuantas veces se nombra esa provincia en la BD?\n",
        "#Ordena la BD por provincias?\n",
        "provincias = dict() #creación de un DICCIONARIO de las provincias\n",
        "for nom in nomprovincias:\n",
        "  provincias[nom] = poblacionesDF[poblacionesDF['PROVINCIA'] == nom]\n",
        "  #print(nom, len(provincias[nom]))\n",
        "  #print(provincias[nom])\n",
        "\n"
      ],
      "execution_count": null,
      "outputs": []
    },
    {
      "cell_type": "code",
      "metadata": {
        "id": "smPKmDBRJUJ4",
        "colab": {
          "base_uri": "https://localhost:8080/"
        },
        "cellView": "form",
        "outputId": "f1c6a875-ab73-4588-b5a1-54ad944ccbeb"
      },
      "source": [
        "#@title Provincia \n",
        "#@markdown Ingrese la provincia\n",
        "\n",
        "no_type_checking = ''\n",
        "nom_distrito = 'PASCO' #@param {type:\"string\"}\n",
        "#*************************************************\n",
        "nomdistritos = provincias[nom_distrito]['DISTRITO'].unique()\n",
        "\n",
        "#*************************************************\n",
        "distritos = dict()\n",
        "\n",
        "\n",
        "print('ESTOS SON LOS DISTRITOS QUE PERTENECEN A LA PROVINCIA', nom_distrito, 'CON SUS RESPECTIVOS NÚMERO DE CENTROS POBLADDOS ')\n",
        "print('')\n",
        "\n",
        "for nom in nomdistritos:\n",
        "  distritos[nom] = provincias[nom_distrito][provincias[nom_distrito]['DISTRITO'] == nom]\n",
        "  print(nom, len(distritos[nom]))\n"
      ],
      "execution_count": null,
      "outputs": [
        {
          "output_type": "stream",
          "text": [
            "ESTOS SON LOS DISTRITOS QUE PERTENECEN A LA PROVINCIA PASCO CON SUS RESPECTIVOS NÚMERO DE CENTROS POBLADDOS \n",
            "\n",
            "HUACHON 2\n",
            "HUARIACA 5\n",
            "NINACACA 1\n",
            "PAUCARTAMBO 11\n",
            "TICLACAYAN 5\n",
            "YANACANCHA 9\n"
          ],
          "name": "stdout"
        }
      ]
    },
    {
      "cell_type": "code",
      "metadata": {
        "id": "Nz7NOsEC7CDE",
        "colab": {
          "base_uri": "https://localhost:8080/",
          "height": 578
        },
        "cellView": "form",
        "outputId": "e2b8e8c9-d846-4372-ab69-98ec435c9b96"
      },
      "source": [
        "#@title Distrito \n",
        "#@markdown Ingrese el distrito\n",
        "\n",
        "no_type_checking = ''\n",
        "nom_distrito_distrito = 'HUARIACA' #@param {type:\"string\"}\n",
        "\n",
        "#*************************************************\n",
        "#Una vez hayas sacado todos los distritos de la PROVINCIA(1° interfaz)\n",
        "#ahora tienes que seleccionar con que distrito vas a realizar el grafo \n",
        "#con sus centros poblados de este distrito seleccionado\n",
        "distrito = distritos[nom_distrito_distrito]\n",
        "\n",
        "#*************************************************\n",
        "def dist(cp1, cp2):\n",
        "  #lat1,lon1\n",
        "  x1, y1 = float(cp1['LATITUD']), float(cp1['LONGITUD'])\n",
        "  #lat2,lon2\n",
        "  x2, y2 = float(cp2['LATITUD']), float(cp2['LONGITUD'])\n",
        "  #*******************************************************\n",
        "\n",
        "  y1, x1, y2, x2 = map(math.radians, [y1, x1, y2, x2])\n",
        "  dlo = y2 - y1\n",
        "  dla = x2 - x1\n",
        "  a = math.sin(dla/2)**2 + math.cos(x1) * math.cos(x2) * math.sin(dlo/2)**2\n",
        "  c = 2 * math.asin(math.sqrt(a))\n",
        "  r = 6371\n",
        "\n",
        "  return round(c * r, 2)\n",
        "\n",
        "  #p = math.pi/180\n",
        "  #a = 0.5 - math.cos((x2 - x1) * p)/2 + math.cos(x1*p) * math.cos(x2 * p) * (1-math.cos((y2-y1)*p))/2\n",
        "  #return 12742 * math.asin(math.sqrt(a)) \n",
        "  #return math.sqrt((x1 - x2)**2 + (y1 - y2)**2)\n",
        "\n",
        "#*************************************************\n",
        "G = nx.Graph()\n",
        "col = 'CENTRO POBLADO'\n",
        "for i, cp1 in distrito.iterrows():\n",
        "  #print(cp1[col])\n",
        "  for j, cp2 in distrito.iterrows():\n",
        "    if cp1[col] != cp2[col]:\n",
        "      G.add_edge(cp1[col], cp2[col], weight=dist(cp1, cp2))\n",
        "\n",
        "#*************************************************\n",
        "print('ESTOS SON LOS CENTROS POBLADOS QUE PERTENECEN A LA PROVINCIA DE', nom_distrito_distrito)\n",
        "print('')\n",
        "gs.nx2gv(G, weighted=True, params={'size':'10'})\n",
        "\n"
      ],
      "execution_count": 11,
      "outputs": [
        {
          "output_type": "stream",
          "text": [
            "ESTOS SON LOS CENTROS POBLADOS QUE PERTENECEN A LA PROVINCIA DE HUARIACA\n",
            "\n"
          ],
          "name": "stdout"
        },
        {
          "output_type": "execute_result",
          "data": {
            "text/plain": [
              "<graphviz.dot.Graph at 0x7fb5d458d110>"
            ],
            "image/svg+xml": "<?xml version=\"1.0\" encoding=\"UTF-8\" standalone=\"no\"?>\n<!DOCTYPE svg PUBLIC \"-//W3C//DTD SVG 1.1//EN\"\n \"http://www.w3.org/Graphics/SVG/1.1/DTD/svg11.dtd\">\n<!-- Generated by graphviz version 2.40.1 (20161225.0304)\n -->\n<!-- Title: G Pages: 1 -->\n<svg width=\"306pt\" height=\"392pt\"\n viewBox=\"0.00 0.00 306.00 392.00\" xmlns=\"http://www.w3.org/2000/svg\" xmlns:xlink=\"http://www.w3.org/1999/xlink\">\n<g id=\"graph0\" class=\"graph\" transform=\"scale(1 1) rotate(0) translate(4 388)\">\n<title>G</title>\n<polygon fill=\"#ffffff\" stroke=\"transparent\" points=\"-4,4 -4,-388 302,-388 302,4 -4,4\"/>\n<!-- CHALCAN -->\n<g id=\"node1\" class=\"node\">\n<title>CHALCAN</title>\n<ellipse fill=\"none\" stroke=\"#000000\" cx=\"101\" cy=\"-366\" rx=\"56.59\" ry=\"18\"/>\n<text text-anchor=\"middle\" x=\"101\" y=\"-362.3\" font-family=\"Times,serif\" font-size=\"14.00\" fill=\"#000000\">CHALCAN</text>\n</g>\n<!-- HUARIACA -->\n<g id=\"node2\" class=\"node\">\n<title>HUARIACA</title>\n<ellipse fill=\"none\" stroke=\"#000000\" cx=\"153\" cy=\"-279\" rx=\"60.3893\" ry=\"18\"/>\n<text text-anchor=\"middle\" x=\"153\" y=\"-275.3\" font-family=\"Times,serif\" font-size=\"14.00\" fill=\"#000000\">HUARIACA</text>\n</g>\n<!-- CHALCAN&#45;&#45;HUARIACA -->\n<g id=\"edge1\" class=\"edge\">\n<title>CHALCAN&#45;&#45;HUARIACA</title>\n<path fill=\"none\" stroke=\"#000000\" d=\"M111.7744,-347.9735C120.6989,-333.0422 133.3187,-311.9283 142.2394,-297.0034\"/>\n<text text-anchor=\"middle\" x=\"143.5\" y=\"-318.8\" font-family=\"Times,serif\" font-size=\"14.00\" fill=\"#000000\">0.98</text>\n</g>\n<!-- MONTECHICO -->\n<g id=\"node3\" class=\"node\">\n<title>MONTECHICO</title>\n<ellipse fill=\"none\" stroke=\"#000000\" cx=\"156\" cy=\"-192\" rx=\"73.387\" ry=\"18\"/>\n<text text-anchor=\"middle\" x=\"156\" y=\"-188.3\" font-family=\"Times,serif\" font-size=\"14.00\" fill=\"#000000\">MONTECHICO</text>\n</g>\n<!-- CHALCAN&#45;&#45;MONTECHICO -->\n<g id=\"edge2\" class=\"edge\">\n<title>CHALCAN&#45;&#45;MONTECHICO</title>\n<path fill=\"none\" stroke=\"#000000\" d=\"M84.1758,-348.4973C65.9572,-327.316 41.4526,-290.7871 57,-261 69.8445,-236.3914 95.9137,-218.7724 118.0772,-207.4999\"/>\n<text text-anchor=\"middle\" x=\"70.5\" y=\"-275.3\" font-family=\"Times,serif\" font-size=\"14.00\" fill=\"#000000\">0.29</text>\n</g>\n<!-- POSUYOJ -->\n<g id=\"node4\" class=\"node\">\n<title>POSUYOJ</title>\n<ellipse fill=\"none\" stroke=\"#000000\" cx=\"237\" cy=\"-105\" rx=\"51.9908\" ry=\"18\"/>\n<text text-anchor=\"middle\" x=\"237\" y=\"-101.3\" font-family=\"Times,serif\" font-size=\"14.00\" fill=\"#000000\">POSUYOJ</text>\n</g>\n<!-- CHALCAN&#45;&#45;POSUYOJ -->\n<g id=\"edge3\" class=\"edge\">\n<title>CHALCAN&#45;&#45;POSUYOJ</title>\n<path fill=\"none\" stroke=\"#000000\" d=\"M135.7582,-351.749C161.6849,-339.8819 196.8229,-321.057 222,-297 255.0742,-265.3972 264.2756,-253.9401 277,-210 285.8156,-179.5578 274.8561,-168.4414 259,-141 255.5553,-135.0385 251.6741,-128.6012 248.1415,-122.8413\"/>\n<text text-anchor=\"middle\" x=\"284.5\" y=\"-231.8\" font-family=\"Times,serif\" font-size=\"14.00\" fill=\"#000000\">0.52</text>\n</g>\n<!-- TARAPATA -->\n<g id=\"node5\" class=\"node\">\n<title>TARAPATA</title>\n<ellipse fill=\"none\" stroke=\"#000000\" cx=\"83\" cy=\"-18\" rx=\"58.4896\" ry=\"18\"/>\n<text text-anchor=\"middle\" x=\"83\" y=\"-14.3\" font-family=\"Times,serif\" font-size=\"14.00\" fill=\"#000000\">TARAPATA</text>\n</g>\n<!-- CHALCAN&#45;&#45;TARAPATA -->\n<g id=\"edge4\" class=\"edge\">\n<title>CHALCAN&#45;&#45;TARAPATA</title>\n<path fill=\"none\" stroke=\"#000000\" d=\"M64.822,-352.1434C35.8411,-338.4109 0,-314.2932 0,-279 0,-279 0,-279 0,-105 0,-73.2696 29.2607,-48.5482 53.0351,-33.6987\"/>\n<text text-anchor=\"middle\" x=\"13.5\" y=\"-188.3\" font-family=\"Times,serif\" font-size=\"14.00\" fill=\"#000000\">0.72</text>\n</g>\n<!-- HUARIACA&#45;&#45;MONTECHICO -->\n<g id=\"edge5\" class=\"edge\">\n<title>HUARIACA&#45;&#45;MONTECHICO</title>\n<path fill=\"none\" stroke=\"#000000\" d=\"M153.6216,-260.9735C154.1365,-246.0422 154.8645,-224.9283 155.3792,-210.0034\"/>\n<text text-anchor=\"middle\" x=\"167.5\" y=\"-231.8\" font-family=\"Times,serif\" font-size=\"14.00\" fill=\"#000000\">0.74</text>\n</g>\n<!-- HUARIACA&#45;&#45;POSUYOJ -->\n<g id=\"edge6\" class=\"edge\">\n<title>HUARIACA&#45;&#45;POSUYOJ</title>\n<path fill=\"none\" stroke=\"#000000\" d=\"M183.7671,-263.3726C203.2476,-251.6177 226.8037,-233.5097 238,-210 251.3252,-182.02 246.5119,-144.8982 241.7742,-123.1146\"/>\n<text text-anchor=\"middle\" x=\"259.5\" y=\"-188.3\" font-family=\"Times,serif\" font-size=\"14.00\" fill=\"#000000\">0.47</text>\n</g>\n<!-- HUARIACA&#45;&#45;TARAPATA -->\n<g id=\"edge7\" class=\"edge\">\n<title>HUARIACA&#45;&#45;TARAPATA</title>\n<path fill=\"none\" stroke=\"#000000\" d=\"M124.3484,-262.8566C106.2185,-250.8778 84.3191,-232.7137 74,-210 47.2229,-151.0597 66.1984,-71.1891 76.9602,-35.9589\"/>\n<text text-anchor=\"middle\" x=\"73.5\" y=\"-144.8\" font-family=\"Times,serif\" font-size=\"14.00\" fill=\"#000000\">0.29</text>\n</g>\n<!-- MONTECHICO&#45;&#45;POSUYOJ -->\n<g id=\"edge8\" class=\"edge\">\n<title>MONTECHICO&#45;&#45;POSUYOJ</title>\n<path fill=\"none\" stroke=\"#000000\" d=\"M172.3916,-174.3943C186.5371,-159.2008 206.852,-137.3812 220.9092,-122.2827\"/>\n<text text-anchor=\"middle\" x=\"214.5\" y=\"-144.8\" font-family=\"Times,serif\" font-size=\"14.00\" fill=\"#000000\">0.33</text>\n</g>\n<!-- MONTECHICO&#45;&#45;TARAPATA -->\n<g id=\"edge9\" class=\"edge\">\n<title>MONTECHICO&#45;&#45;TARAPATA</title>\n<path fill=\"none\" stroke=\"#000000\" d=\"M148.4627,-174.0343C134.4377,-140.605 104.4902,-69.2232 90.4963,-35.868\"/>\n<text text-anchor=\"middle\" x=\"139.5\" y=\"-101.3\" font-family=\"Times,serif\" font-size=\"14.00\" fill=\"#000000\">0.52</text>\n</g>\n<!-- POSUYOJ&#45;&#45;TARAPATA -->\n<g id=\"edge10\" class=\"edge\">\n<title>POSUYOJ&#45;&#45;TARAPATA</title>\n<path fill=\"none\" stroke=\"#000000\" d=\"M209.8224,-89.6464C182.1046,-73.9876 139.2922,-49.8014 111.2075,-33.9354\"/>\n<text text-anchor=\"middle\" x=\"178.5\" y=\"-57.8\" font-family=\"Times,serif\" font-size=\"14.00\" fill=\"#000000\">0.2</text>\n</g>\n</g>\n</svg>\n"
          },
          "metadata": {
            "tags": []
          },
          "execution_count": 11
        }
      ]
    },
    {
      "cell_type": "code",
      "metadata": {
        "id": "ZS1zgbI6aU1J",
        "colab": {
          "base_uri": "https://localhost:8080/"
        },
        "cellView": "form",
        "outputId": "67bfbecb-241f-45ae-b4bb-fb2001431514"
      },
      "source": [
        "# EXTRAIGO TODA LA INFORMACIÓN DEL GRAFO PARA USARLA EN EL DICCIONARIO\n",
        "grafico = dict()\n",
        "#Agregarlo al diccionario\n",
        "#Tengo la lista de cada nodo \n",
        "for n in list(G):\n",
        "  #print('Nodo:', n)\n",
        "  grafico[n] = {}\n",
        "  #tengo que recorrer cada uno de sus vecinos de cada nodo para saber su tamaño\n",
        "  for j in G.neighbors(n):\n",
        "    #print(j,'Tamaño:', G.get_edge_data(n,j,default=0))\n",
        "    result = json.dumps(G.get_edge_data(n,j,default=0))\n",
        "    result = result.replace('{\"weight\": ', '')\n",
        "    result = result.replace('}', '')\n",
        "    result = float(result)\n",
        "    result = result * 1000\n",
        "    result = int(result)\n",
        "    grafico[n][j] = result\n",
        "\n",
        "#*************************************************    \n",
        "#@title Elige Centro Poblado Inicial \n",
        "#@markdown Ingrese el centro poblado por donde va a iniciar el algoritmo\n",
        "\n",
        "no_type_checking = ''\n",
        "nom_centro_poblado_ini = 'HUARIACA' #@param {type:\"string\"}\n",
        "\n",
        "#*************************************************\n",
        "routes = []\n",
        "\n",
        "\n",
        "def find_paths(node, cities, path, distance):\n",
        "    path.append(node)\n",
        "\n",
        "    if len(path) > 1:\n",
        "        distance += cities[path[-2]][node]\n",
        "\n",
        "    if (len(cities) == len(path)) and (path[0] in cities[path[-1]]):\n",
        "        global routes\n",
        "        path.append(path[0])\n",
        "        distance += cities[path[-2]][path[0]]\n",
        "        print (path, distance)\n",
        "        routes.append([distance, path])\n",
        "        return\n",
        "        \n",
        "    for city in cities:\n",
        "        if (city not in path) and (node in cities[city]):\n",
        "            find_paths(city, dict(cities), list(path), distance)\n",
        "\n",
        "\n",
        "if __name__ == '__main__':\n",
        "    cities = grafico.copy()\n",
        "\n",
        "    print (\"Start:\")\n",
        "    find_paths(nom_centro_poblado_ini, cities, [], 0)\n",
        "    print (\"\\n\")\n",
        "    routes.sort()\n",
        "    if len(routes) != 0:\n",
        "        print (\"Ruta más corta: %s\" % routes[0])\n",
        "    else:\n",
        "        print (\"FAIL!\")"
      ],
      "execution_count": 12,
      "outputs": [
        {
          "output_type": "stream",
          "text": [
            "Start:\n",
            "['HUARIACA', 'CHALCAN', 'MONTECHICO', 'POSUYOJ', 'TARAPATA', 'HUARIACA'] 2090\n",
            "['HUARIACA', 'CHALCAN', 'MONTECHICO', 'TARAPATA', 'POSUYOJ', 'HUARIACA'] 2460\n",
            "['HUARIACA', 'CHALCAN', 'POSUYOJ', 'MONTECHICO', 'TARAPATA', 'HUARIACA'] 2640\n",
            "['HUARIACA', 'CHALCAN', 'POSUYOJ', 'TARAPATA', 'MONTECHICO', 'HUARIACA'] 2960\n",
            "['HUARIACA', 'CHALCAN', 'TARAPATA', 'MONTECHICO', 'POSUYOJ', 'HUARIACA'] 3020\n",
            "['HUARIACA', 'CHALCAN', 'TARAPATA', 'POSUYOJ', 'MONTECHICO', 'HUARIACA'] 2970\n",
            "['HUARIACA', 'MONTECHICO', 'CHALCAN', 'POSUYOJ', 'TARAPATA', 'HUARIACA'] 2040\n",
            "['HUARIACA', 'MONTECHICO', 'CHALCAN', 'TARAPATA', 'POSUYOJ', 'HUARIACA'] 2420\n",
            "['HUARIACA', 'MONTECHICO', 'POSUYOJ', 'CHALCAN', 'TARAPATA', 'HUARIACA'] 2600\n",
            "['HUARIACA', 'MONTECHICO', 'POSUYOJ', 'TARAPATA', 'CHALCAN', 'HUARIACA'] 2970\n",
            "['HUARIACA', 'MONTECHICO', 'TARAPATA', 'CHALCAN', 'POSUYOJ', 'HUARIACA'] 2970\n",
            "['HUARIACA', 'MONTECHICO', 'TARAPATA', 'POSUYOJ', 'CHALCAN', 'HUARIACA'] 2960\n",
            "['HUARIACA', 'POSUYOJ', 'CHALCAN', 'MONTECHICO', 'TARAPATA', 'HUARIACA'] 2090\n",
            "['HUARIACA', 'POSUYOJ', 'CHALCAN', 'TARAPATA', 'MONTECHICO', 'HUARIACA'] 2970\n",
            "['HUARIACA', 'POSUYOJ', 'MONTECHICO', 'CHALCAN', 'TARAPATA', 'HUARIACA'] 2100\n",
            "['HUARIACA', 'POSUYOJ', 'MONTECHICO', 'TARAPATA', 'CHALCAN', 'HUARIACA'] 3020\n",
            "['HUARIACA', 'POSUYOJ', 'TARAPATA', 'CHALCAN', 'MONTECHICO', 'HUARIACA'] 2420\n",
            "['HUARIACA', 'POSUYOJ', 'TARAPATA', 'MONTECHICO', 'CHALCAN', 'HUARIACA'] 2460\n",
            "['HUARIACA', 'TARAPATA', 'CHALCAN', 'MONTECHICO', 'POSUYOJ', 'HUARIACA'] 2100\n",
            "['HUARIACA', 'TARAPATA', 'CHALCAN', 'POSUYOJ', 'MONTECHICO', 'HUARIACA'] 2600\n",
            "['HUARIACA', 'TARAPATA', 'MONTECHICO', 'CHALCAN', 'POSUYOJ', 'HUARIACA'] 2090\n",
            "['HUARIACA', 'TARAPATA', 'MONTECHICO', 'POSUYOJ', 'CHALCAN', 'HUARIACA'] 2640\n",
            "['HUARIACA', 'TARAPATA', 'POSUYOJ', 'CHALCAN', 'MONTECHICO', 'HUARIACA'] 2040\n",
            "['HUARIACA', 'TARAPATA', 'POSUYOJ', 'MONTECHICO', 'CHALCAN', 'HUARIACA'] 2090\n",
            "\n",
            "\n",
            "Ruta más corta: [2040, ['HUARIACA', 'MONTECHICO', 'CHALCAN', 'POSUYOJ', 'TARAPATA', 'HUARIACA']]\n"
          ],
          "name": "stdout"
        }
      ]
    }
  ]
}